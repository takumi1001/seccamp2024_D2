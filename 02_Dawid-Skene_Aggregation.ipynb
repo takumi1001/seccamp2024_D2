{
 "cells": [
  {
   "cell_type": "markdown",
   "id": "1c879761-6b5b-4827-81a1-bda987598c38",
   "metadata": {},
   "source": [
    "# Dawid-Skene法によるクラウドソーシング結果集約\n",
    "<a target=\"_blank\" href=\"https://colab.research.google.com/github/takumi1001/seccamp2024_D2/blob/main/02_Dawid-Skene_Aggregation\">\n",
    "  <img src=\"https://colab.research.google.com/assets/colab-badge.svg\" alt=\"Open In Colab\"/>\n",
    "</a>"
   ]
  },
  {
   "cell_type": "markdown",
   "id": "3b1ee192-90d5-4722-985b-557a507856ae",
   "metadata": {},
   "source": [
    "## 準備"
   ]
  },
  {
   "cell_type": "markdown",
   "id": "08da2595-b566-46c7-a77b-aa46d53dace8",
   "metadata": {},
   "source": [
    "### Google Colabにインストールされていないライブラリを導入する"
   ]
  },
  {
   "cell_type": "code",
   "execution_count": null,
   "id": "a62a1c6f-a05d-4418-856d-7916e02c7246",
   "metadata": {},
   "outputs": [],
   "source": [
    "!pip install crowd-kit"
   ]
  },
  {
   "cell_type": "markdown",
   "id": "0220f221-db40-4c56-8da4-ab3e45e3ec1c",
   "metadata": {},
   "source": [
    "### ライブラリをインポートする"
   ]
  },
  {
   "cell_type": "code",
   "execution_count": 1,
   "id": "dadc5139-c655-4467-bb01-893ac0880560",
   "metadata": {},
   "outputs": [],
   "source": [
    "import numpy as np\n",
    "import pandas as pd"
   ]
  },
  {
   "cell_type": "markdown",
   "id": "55a11115-3743-4e1b-ae24-ccecb75d2424",
   "metadata": {},
   "source": [
    "クラウドソーシング企業Toloka社の公開しているライブラリ`crowd-kit`を使うと，様々な集約アルゴリズムやデータセットなどを簡単に利用できる．\n",
    "\n",
    "https://github.com/Toloka/crowd-kit"
   ]
  },
  {
   "cell_type": "code",
   "execution_count": 2,
   "id": "b2385edc-1284-4da0-86ee-342ff55c3b9b",
   "metadata": {},
   "outputs": [],
   "source": [
    "from crowdkit.datasets.load_dataset import load_dataset\n",
    "from crowdkit.aggregation.classification import DawidSkene, MajorityVote"
   ]
  },
  {
   "cell_type": "markdown",
   "id": "56e00899-357b-44f0-8e47-734f16cdace7",
   "metadata": {},
   "source": [
    "### データセットをダウンロードする\n",
    "ワーカ間一致率と同じように`relevance-2`データセットを用いる．\n",
    "\n",
    "今回は，集約方法によって品質が変わることを確認したいので，\n",
    "`relevance-2`のデータのうち正解データがついているものだけを利用する．"
   ]
  },
  {
   "cell_type": "code",
   "execution_count": 3,
   "id": "2f45d797-e8f5-406e-9065-4800db497f61",
   "metadata": {},
   "outputs": [],
   "source": [
    "df, gt = load_dataset('relevance-2')\n",
    "\n",
    "# 正解データがついているタスクのみを抽出する\n",
    "df = df.merge(gt, on=\"task\", how=\"left\", validate=\"m:1\")\n",
    "df = df[df[\"true_label\"].notnull()].drop(columns=[\"true_label\"])"
   ]
  },
  {
   "cell_type": "markdown",
   "id": "58221f59-7c1a-40e1-824c-c2512fde13cf",
   "metadata": {},
   "source": [
    "データを見てみましょう"
   ]
  },
  {
   "cell_type": "code",
   "execution_count": 4,
   "id": "fca1d2e8-62b9-4b2b-95c5-f3039f61b5b7",
   "metadata": {},
   "outputs": [
    {
     "data": {
      "text/html": [
       "<div>\n",
       "<style scoped>\n",
       "    .dataframe tbody tr th:only-of-type {\n",
       "        vertical-align: middle;\n",
       "    }\n",
       "\n",
       "    .dataframe tbody tr th {\n",
       "        vertical-align: top;\n",
       "    }\n",
       "\n",
       "    .dataframe thead th {\n",
       "        text-align: right;\n",
       "    }\n",
       "</style>\n",
       "<table border=\"1\" class=\"dataframe\">\n",
       "  <thead>\n",
       "    <tr style=\"text-align: right;\">\n",
       "      <th></th>\n",
       "      <th>worker</th>\n",
       "      <th>task</th>\n",
       "      <th>label</th>\n",
       "    </tr>\n",
       "  </thead>\n",
       "  <tbody>\n",
       "    <tr>\n",
       "      <th>0</th>\n",
       "      <td>w851</td>\n",
       "      <td>t30685</td>\n",
       "      <td>1</td>\n",
       "    </tr>\n",
       "    <tr>\n",
       "      <th>8</th>\n",
       "      <td>w5879</td>\n",
       "      <td>t7116</td>\n",
       "      <td>1</td>\n",
       "    </tr>\n",
       "    <tr>\n",
       "      <th>14</th>\n",
       "      <td>w3048</td>\n",
       "      <td>t95532</td>\n",
       "      <td>0</td>\n",
       "    </tr>\n",
       "    <tr>\n",
       "      <th>25</th>\n",
       "      <td>w3716</td>\n",
       "      <td>t12806</td>\n",
       "      <td>1</td>\n",
       "    </tr>\n",
       "    <tr>\n",
       "      <th>45</th>\n",
       "      <td>w5843</td>\n",
       "      <td>t90925</td>\n",
       "      <td>0</td>\n",
       "    </tr>\n",
       "    <tr>\n",
       "      <th>...</th>\n",
       "      <td>...</td>\n",
       "      <td>...</td>\n",
       "      <td>...</td>\n",
       "    </tr>\n",
       "    <tr>\n",
       "      <th>475516</th>\n",
       "      <td>w4807</td>\n",
       "      <td>t32606</td>\n",
       "      <td>0</td>\n",
       "    </tr>\n",
       "    <tr>\n",
       "      <th>475518</th>\n",
       "      <td>w1021</td>\n",
       "      <td>t45301</td>\n",
       "      <td>1</td>\n",
       "    </tr>\n",
       "    <tr>\n",
       "      <th>475521</th>\n",
       "      <td>w4311</td>\n",
       "      <td>t83768</td>\n",
       "      <td>1</td>\n",
       "    </tr>\n",
       "    <tr>\n",
       "      <th>475522</th>\n",
       "      <td>w6785</td>\n",
       "      <td>t21709</td>\n",
       "      <td>0</td>\n",
       "    </tr>\n",
       "    <tr>\n",
       "      <th>475533</th>\n",
       "      <td>w4605</td>\n",
       "      <td>t93513</td>\n",
       "      <td>1</td>\n",
       "    </tr>\n",
       "  </tbody>\n",
       "</table>\n",
       "<p>48268 rows × 3 columns</p>\n",
       "</div>"
      ],
      "text/plain": [
       "       worker    task  label\n",
       "0        w851  t30685      1\n",
       "8       w5879   t7116      1\n",
       "14      w3048  t95532      0\n",
       "25      w3716  t12806      1\n",
       "45      w5843  t90925      0\n",
       "...       ...     ...    ...\n",
       "475516  w4807  t32606      0\n",
       "475518  w1021  t45301      1\n",
       "475521  w4311  t83768      1\n",
       "475522  w6785  t21709      0\n",
       "475533  w4605  t93513      1\n",
       "\n",
       "[48268 rows x 3 columns]"
      ]
     },
     "execution_count": 4,
     "metadata": {},
     "output_type": "execute_result"
    }
   ],
   "source": [
    "df"
   ]
  },
  {
   "cell_type": "markdown",
   "id": "0d860bd7-8437-492c-b6d5-f15b9ae393b4",
   "metadata": {},
   "source": [
    "正解データのことをGround Truth，略してgtということが良くあります．\n",
    "\n",
    "gtデータの中身も確認してみましょう．"
   ]
  },
  {
   "cell_type": "code",
   "execution_count": 5,
   "id": "d2afa8d8-2161-42aa-8d17-265bbe2ba239",
   "metadata": {},
   "outputs": [
    {
     "data": {
      "text/plain": [
       "task\n",
       "t30006    0\n",
       "t33578    0\n",
       "t22462    1\n",
       "t52093    0\n",
       "t26935    0\n",
       "         ..\n",
       "t57345    1\n",
       "t81052    1\n",
       "t7189     1\n",
       "t80463    0\n",
       "t93643    0\n",
       "Name: true_label, Length: 10079, dtype: int64"
      ]
     },
     "execution_count": 5,
     "metadata": {},
     "output_type": "execute_result"
    }
   ],
   "source": [
    "gt"
   ]
  },
  {
   "cell_type": "markdown",
   "id": "b1aad02c-0fa2-475c-a9ed-ca27f1085a21",
   "metadata": {},
   "source": [
    "## 単純多数決による集約\n",
    "単純多数決を用いて，結果を集約し，品質を確認してみましょう．"
   ]
  },
  {
   "cell_type": "code",
   "execution_count": 6,
   "id": "11ae02c3-ac27-4003-bc66-54c9a877aa64",
   "metadata": {},
   "outputs": [],
   "source": [
    "# crowd-kitの集約アルゴリズムは，(worker,task,label)のDataFrameを入力として渡すだけで使える\n",
    "majority_vote = MajorityVote() # インスタンス化する必要がある\n",
    "mv_result = majority_vote.fit_predict(df)"
   ]
  },
  {
   "cell_type": "code",
   "execution_count": 7,
   "id": "0c775891-b1d6-49bd-81c1-d6c51cc05552",
   "metadata": {},
   "outputs": [
    {
     "data": {
      "text/plain": [
       "task\n",
       "t10001    1\n",
       "t1003     1\n",
       "t10031    0\n",
       "t10037    1\n",
       "t10040    1\n",
       "Name: agg_label, dtype: int64"
      ]
     },
     "execution_count": 7,
     "metadata": {},
     "output_type": "execute_result"
    }
   ],
   "source": [
    "mv_result.head() # 結果データを覗いてみる"
   ]
  },
  {
   "cell_type": "markdown",
   "id": "2608ca71-cf66-44a4-847f-106e860a7689",
   "metadata": {},
   "source": [
    "### 精度を計測する\n",
    "精度として accuracy (正解率) を計測してみましょう．"
   ]
  },
  {
   "cell_type": "code",
   "execution_count": 8,
   "id": "f21d4ed6-9553-4597-bb91-b45e4720cd5c",
   "metadata": {},
   "outputs": [],
   "source": [
    "from sklearn.metrics import accuracy_score # ライブラリからインポートする"
   ]
  },
  {
   "cell_type": "code",
   "execution_count": 9,
   "id": "31f76529-9121-41d5-b7ed-fccfd8422fbd",
   "metadata": {},
   "outputs": [],
   "source": [
    "# 精度を計測するために，gtデータからy_true配列を作成する\n",
    "y_true = gt.sort_index().to_numpy() "
   ]
  },
  {
   "cell_type": "code",
   "execution_count": 10,
   "id": "184f6fc4-1650-4e41-a507-2f6b6166270b",
   "metadata": {},
   "outputs": [
    {
     "data": {
      "text/plain": [
       "array([0, 0, 1, ..., 0, 0, 0], dtype=int64)"
      ]
     },
     "execution_count": 10,
     "metadata": {},
     "output_type": "execute_result"
    }
   ],
   "source": [
    "y_true"
   ]
  },
  {
   "cell_type": "code",
   "execution_count": 11,
   "id": "6f3f9f30-6d6a-4a85-ae5e-f5301d8b4b0a",
   "metadata": {},
   "outputs": [],
   "source": [
    "# 同じく，mv_resultからy_pred配列を作成する\n",
    "y_pred = mv_result.sort_index().to_numpy()"
   ]
  },
  {
   "cell_type": "code",
   "execution_count": 12,
   "id": "0376c39b-1505-4570-8f4d-5d91153061e6",
   "metadata": {},
   "outputs": [
    {
     "data": {
      "text/plain": [
       "array([1, 1, 0, ..., 1, 1, 0], dtype=int64)"
      ]
     },
     "execution_count": 12,
     "metadata": {},
     "output_type": "execute_result"
    }
   ],
   "source": [
    "y_pred"
   ]
  },
  {
   "cell_type": "code",
   "execution_count": 13,
   "id": "3e413363-edf7-4959-9eaa-27d515fa2686",
   "metadata": {},
   "outputs": [],
   "source": [
    "accuracy_mv = accuracy_score(y_true, y_pred)"
   ]
  },
  {
   "cell_type": "code",
   "execution_count": 14,
   "id": "442f6b5e-c11b-4380-9b31-e5e5732ea4ed",
   "metadata": {},
   "outputs": [
    {
     "data": {
      "text/plain": [
       "0.7763667030459371"
      ]
     },
     "execution_count": 14,
     "metadata": {},
     "output_type": "execute_result"
    }
   ],
   "source": [
    "accuracy_mv"
   ]
  },
  {
   "cell_type": "markdown",
   "id": "5d69a7bc-bfed-4867-8b79-744fce758ff5",
   "metadata": {},
   "source": [
    "単純多数決の精度は`77.6%`でした．"
   ]
  },
  {
   "cell_type": "markdown",
   "id": "b7e2e499-cd23-41ec-9ee1-6b2bb61542f8",
   "metadata": {},
   "source": [
    "## Dawid-Skene法での集約\n",
    "続いて，Dawid-Skene法を用いてみましょう．"
   ]
  },
  {
   "cell_type": "code",
   "execution_count": 15,
   "id": "16a39112-cf59-41bf-94f8-51c566087b98",
   "metadata": {},
   "outputs": [],
   "source": [
    "# crowd-kitの集約アルゴリズムは，(worker,task,label)のDataFrameを入力として渡すだけで使える\n",
    "dawid_skene = DawidSkene() # インスタンス化する必要がある\n",
    "ds_result = dawid_skene.fit_predict(df)"
   ]
  },
  {
   "cell_type": "code",
   "execution_count": 16,
   "id": "bca10c54-b408-4061-9179-5a8bf824efc8",
   "metadata": {},
   "outputs": [
    {
     "data": {
      "text/plain": [
       "task\n",
       "t30685    1\n",
       "t7116     1\n",
       "t95532    1\n",
       "t12806    1\n",
       "t90925    1\n",
       "Name: agg_label, dtype: int64"
      ]
     },
     "execution_count": 16,
     "metadata": {},
     "output_type": "execute_result"
    }
   ],
   "source": [
    "ds_result.head()"
   ]
  },
  {
   "cell_type": "markdown",
   "id": "026b475f-4ae5-46ed-bbe8-5846d32b5b96",
   "metadata": {},
   "source": [
    "単純多数決と同じように，精度を計算します．"
   ]
  },
  {
   "cell_type": "code",
   "execution_count": 21,
   "id": "2c01093a-194f-4017-b897-593adad7c3a2",
   "metadata": {},
   "outputs": [],
   "source": [
    "y_true = gt.sort_index().to_numpy() \n",
    "y_pred = ds_result.sort_index().to_numpy()\n",
    "accuracy_ds = accuracy_score(y_true, y_pred)"
   ]
  },
  {
   "cell_type": "code",
   "execution_count": 22,
   "id": "750da915-d70d-43a9-9aa8-03788d3acae6",
   "metadata": {},
   "outputs": [
    {
     "data": {
      "text/plain": [
       "0.794820914773291"
      ]
     },
     "execution_count": 22,
     "metadata": {},
     "output_type": "execute_result"
    }
   ],
   "source": [
    "accuracy_ds"
   ]
  },
  {
   "cell_type": "code",
   "execution_count": 23,
   "id": "99bb2171-edc7-4e22-9fc8-0c01f2efbebc",
   "metadata": {},
   "outputs": [
    {
     "data": {
      "text/plain": [
       "0.7763667030459371"
      ]
     },
     "execution_count": 23,
     "metadata": {},
     "output_type": "execute_result"
    }
   ],
   "source": [
    "accuracy_mv"
   ]
  },
  {
   "cell_type": "markdown",
   "id": "9c910d8e-851b-4a9a-ba8b-b5a9682d7e17",
   "metadata": {},
   "source": [
    "単純多数決と比べて，Dawid-Skene法の方が精度が高いことがわかります．\n",
    "\n",
    "ただし，常に`Dawid-Skene法>単純多数決`が成り立つわけではありません，データによって最適なアルゴリズムは異なる点には注意が必要です．クラウドソーシングではワーカ間の能力差が幅広い傾向がありますので，一般にはDawid-Skene法が有効であると考えられています．"
   ]
  },
  {
   "cell_type": "markdown",
   "id": "1989d6e0-bec1-4bb6-bc30-c50347b18749",
   "metadata": {},
   "source": [
    "## スパムワーカを追加する\n",
    "ワーカ間一致率の場合と同じように，悪いふるまいをするワーカを追加して，集約結果がどう変化するか，試してみましょう．\n",
    "\n",
    "悪いふるまいをするワーカはすべてのタスクにランダムに回答します"
   ]
  },
  {
   "cell_type": "code",
   "execution_count": 24,
   "id": "693fa0fa-7940-4635-a594-6bad159537ef",
   "metadata": {},
   "outputs": [],
   "source": [
    "num_spam_workers = 20 # スパムワーカ数"
   ]
  },
  {
   "cell_type": "code",
   "execution_count": 25,
   "id": "b2110466-1e45-43cc-8661-6007e2ecc7bc",
   "metadata": {},
   "outputs": [],
   "source": [
    "# ランダムな振る舞いをするワーカを生成する\n",
    "rows = []\n",
    "for i_worker in range(num_spam_workers):\n",
    "    worker_id = f\"random_{i_worker}\"\n",
    "    for task_id in df[\"task\"].unique():\n",
    "        row = (worker_id, task_id, np.random.randint(low=0,high=1+1))\n",
    "        rows.append(row)\n",
    "spam_df = pd.DataFrame(rows, columns=[\"worker\",\"task\",\"label\"])"
   ]
  },
  {
   "cell_type": "code",
   "execution_count": 31,
   "id": "f1ff2287-4b9a-41d9-9245-c15e92a6e859",
   "metadata": {},
   "outputs": [
    {
     "data": {
      "text/html": [
       "<div>\n",
       "<style scoped>\n",
       "    .dataframe tbody tr th:only-of-type {\n",
       "        vertical-align: middle;\n",
       "    }\n",
       "\n",
       "    .dataframe tbody tr th {\n",
       "        vertical-align: top;\n",
       "    }\n",
       "\n",
       "    .dataframe thead th {\n",
       "        text-align: right;\n",
       "    }\n",
       "</style>\n",
       "<table border=\"1\" class=\"dataframe\">\n",
       "  <thead>\n",
       "    <tr style=\"text-align: right;\">\n",
       "      <th></th>\n",
       "      <th>worker</th>\n",
       "      <th>task</th>\n",
       "      <th>label</th>\n",
       "    </tr>\n",
       "  </thead>\n",
       "  <tbody>\n",
       "    <tr>\n",
       "      <th>0</th>\n",
       "      <td>random_0</td>\n",
       "      <td>t30685</td>\n",
       "      <td>0</td>\n",
       "    </tr>\n",
       "    <tr>\n",
       "      <th>1</th>\n",
       "      <td>random_0</td>\n",
       "      <td>t7116</td>\n",
       "      <td>1</td>\n",
       "    </tr>\n",
       "    <tr>\n",
       "      <th>2</th>\n",
       "      <td>random_0</td>\n",
       "      <td>t95532</td>\n",
       "      <td>0</td>\n",
       "    </tr>\n",
       "    <tr>\n",
       "      <th>3</th>\n",
       "      <td>random_0</td>\n",
       "      <td>t12806</td>\n",
       "      <td>1</td>\n",
       "    </tr>\n",
       "    <tr>\n",
       "      <th>4</th>\n",
       "      <td>random_0</td>\n",
       "      <td>t90925</td>\n",
       "      <td>1</td>\n",
       "    </tr>\n",
       "  </tbody>\n",
       "</table>\n",
       "</div>"
      ],
      "text/plain": [
       "     worker    task  label\n",
       "0  random_0  t30685      0\n",
       "1  random_0   t7116      1\n",
       "2  random_0  t95532      0\n",
       "3  random_0  t12806      1\n",
       "4  random_0  t90925      1"
      ]
     },
     "execution_count": 31,
     "metadata": {},
     "output_type": "execute_result"
    }
   ],
   "source": [
    "spam_df.head()"
   ]
  },
  {
   "cell_type": "code",
   "execution_count": 27,
   "id": "daa9c32b-02a0-4d24-96fa-3a5de283c38f",
   "metadata": {},
   "outputs": [],
   "source": [
    "df_with_spam = pd.concat([df, spam_df]) # データセットと結合する"
   ]
  },
  {
   "cell_type": "markdown",
   "id": "aff11091-73d1-4e2a-b15e-f7e2f8754662",
   "metadata": {},
   "source": [
    "### 単純多数決"
   ]
  },
  {
   "cell_type": "code",
   "execution_count": 28,
   "id": "e7affcf1-d61c-4617-8924-00c657d20d82",
   "metadata": {},
   "outputs": [
    {
     "data": {
      "text/plain": [
       "0.6498660581406885"
      ]
     },
     "execution_count": 28,
     "metadata": {},
     "output_type": "execute_result"
    }
   ],
   "source": [
    "majority_vote = MajorityVote() # インスタンス化する必要がある\n",
    "mv_result_with_spam = majority_vote.fit_predict(df_with_spam)\n",
    "y_true = gt.sort_index().to_numpy() \n",
    "y_pred = mv_result_with_spam.sort_index().to_numpy()\n",
    "accuracy_score(y_true, y_pred)"
   ]
  },
  {
   "cell_type": "markdown",
   "id": "d0cbfafc-0c31-44fd-b481-e1b99ab48864",
   "metadata": {},
   "source": [
    "### Dawid-Skene法"
   ]
  },
  {
   "cell_type": "code",
   "execution_count": 29,
   "id": "9e0e2529-5276-44d7-9124-8bd38899478f",
   "metadata": {},
   "outputs": [
    {
     "data": {
      "text/plain": [
       "0.7918444290108145"
      ]
     },
     "execution_count": 29,
     "metadata": {},
     "output_type": "execute_result"
    }
   ],
   "source": [
    "dawid_skene = DawidSkene() # インスタンス化する必要がある\n",
    "ds_result_with_spam = dawid_skene.fit_predict(df_with_spam)\n",
    "y_true = gt.sort_index().to_numpy() \n",
    "y_pred = ds_result_with_spam.sort_index().to_numpy()\n",
    "accuracy_score(y_true, y_pred)"
   ]
  },
  {
   "cell_type": "markdown",
   "id": "ccd98a5b-a8c0-4429-9918-1b79bdbd7b4f",
   "metadata": {},
   "source": [
    "Dawid-Skene法が品質の悪いワーカの影響をほとんど受けていなことがわかると思います．"
   ]
  },
  {
   "cell_type": "markdown",
   "id": "a6d15901-2b09-4e4d-9c66-f7235d13b5e9",
   "metadata": {},
   "source": [
    "## 余裕があればやってみよう\n",
    " - スパムワーカの数を増減して，Dawid-Skene法や単純多数決の精度がどう変化するか，試してみよう\n",
    " - Dawid-Skene法以外の集約アルゴリズムを試してみよう．\n",
    "   - crowd-kitのドキュメントを参考にしよう：https://crowd-kit.readthedocs.io/en/stable/classification/\n",
    "   - `MACE`や`GLAD`，`OneCoinDawidSkene`などは試しやすくておすすめ\n",
    "   - これらの手法とDawid-Skene法の違いはなんだろうか？\n",
    " - Dawid-Skene法のパラメータを変更していろいろ試してみよう\n",
    "   - EMアルゴリズムの繰り返し回数はどのように制御されている？\n",
    " - `relevance-2`以外のデータセットに適用してみよう．\n",
    "   - 集約アルゴリズムはクラス分類問題にしか適用できないので注意しよう\n",
    "   - オープンデータについては以下のサイトにまとまっている\n",
    "   - https://github.com/TrentoCrowdAI/crowdsourced-datasets\n",
    "   - 自分でデータをダウンロードし，変換しないといけないので少し大変"
   ]
  }
 ],
 "metadata": {
  "kernelspec": {
   "display_name": "Python 3 (ipykernel)",
   "language": "python",
   "name": "python3"
  },
  "language_info": {
   "codemirror_mode": {
    "name": "ipython",
    "version": 3
   },
   "file_extension": ".py",
   "mimetype": "text/x-python",
   "name": "python",
   "nbconvert_exporter": "python",
   "pygments_lexer": "ipython3",
   "version": "3.11.3"
  }
 },
 "nbformat": 4,
 "nbformat_minor": 5
}
