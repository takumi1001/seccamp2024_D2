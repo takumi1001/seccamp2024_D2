{
 "cells": [
  {
   "cell_type": "markdown",
   "id": "eaffaa64-51bb-48a1-9455-356744b0ee8e",
   "metadata": {},
   "source": [
    "# ワーカ間一致率によるクラウドソーシング結果の評価\n",
    "<a target=\"_blank\" href=\"https://colab.research.google.com/github/takumi1001/seccamp2024_D2/blob/main/01_Inter-Rater_Agreement.ipynb\">\n",
    "  <img src=\"https://colab.research.google.com/assets/colab-badge.svg\" alt=\"Open In Colab\"/>\n",
    "</a>"
   ]
  },
  {
   "cell_type": "markdown",
   "id": "e706f4e2-17be-4ffa-93db-d7a03cec00c5",
   "metadata": {},
   "source": [
    "## 準備"
   ]
  },
  {
   "cell_type": "markdown",
   "id": "24b2fc28-5aa7-42e1-9ea9-fd32f89c989e",
   "metadata": {},
   "source": [
    "### Google Colabにインストールされていないライブラリを導入する"
   ]
  },
  {
   "cell_type": "code",
   "execution_count": null,
   "id": "2b0c8f2c-fb59-4571-8c0c-7d32d034c109",
   "metadata": {},
   "outputs": [],
   "source": [
    "!pip install crowd-kit\n",
    "!pip install krippendorff"
   ]
  },
  {
   "cell_type": "markdown",
   "id": "05cd3afe-bb8b-4b47-9d23-f1534869f073",
   "metadata": {},
   "source": [
    "### ライブラリをインポートする"
   ]
  },
  {
   "cell_type": "code",
   "execution_count": 1,
   "id": "d4206dc4-3dde-43e7-9e6e-f9ac15d9ebd1",
   "metadata": {},
   "outputs": [],
   "source": [
    "import numpy as np\n",
    "import pandas as pd\n",
    "import krippendorff"
   ]
  },
  {
   "cell_type": "markdown",
   "id": "6e665073-9120-4354-850f-559b1b594f9a",
   "metadata": {},
   "source": [
    "## クリッペンドルフのαを計算する\n",
    "講義資料で示した２つの場合について，krippendorffライブラリを用いてαを計算し，手計算の結果と一致しているか見てみましょう"
   ]
  },
  {
   "attachments": {},
   "cell_type": "markdown",
   "id": "da3ceae3-4fa9-4d76-8daa-665bf5f04e74",
   "metadata": {},
   "source": [
    "![img1](https://github.com/takumi1001/seccamp2024_D2/blob/main/imgs/responses1.png?raw=true)"
   ]
  },
  {
   "cell_type": "code",
   "execution_count": 2,
   "id": "defecc41-7fe9-4f51-aede-de103f660e95",
   "metadata": {},
   "outputs": [
    {
     "data": {
      "text/plain": [
       "0.4"
      ]
     },
     "execution_count": 2,
     "metadata": {},
     "output_type": "execute_result"
    }
   ],
   "source": [
    "# krippendorffライブラリでは，ワーカが回答しない場合はnp.nanとする\n",
    "worker_A = (\"クラゲ\",\"クラゲ\",\"イカ\",\"イカ\",np.nan,\"タコ\",np.nan)\n",
    "worker_B = (\"クラゲ\",\"クラゲ\",np.nan,\"イカ\",\"クラゲ\",np.nan,\"クラゲ\")\n",
    "worker_C = (\"クラゲ\",np.nan,\"タコ\",\"クラゲ\",\"タコ\",\"タコ\",\"クラゲ\")\n",
    "\n",
    "# 回答をまとめる\n",
    "responses = (worker_A, worker_B, worker_C)\n",
    "\n",
    "# 計算する\n",
    "krippendorff.alpha(reliability_data=responses, level_of_measurement=\"nominal\")"
   ]
  },
  {
   "attachments": {},
   "cell_type": "markdown",
   "id": "8ec25a99-f681-4368-a488-249473a2cd26",
   "metadata": {},
   "source": [
    "![img2](https://github.com/takumi1001/seccamp2024_D2/blob/main/imgs/responses2.png?raw=true)"
   ]
  },
  {
   "cell_type": "code",
   "execution_count": 3,
   "id": "8ba0b264-764b-4a69-9102-e37c160c26bb",
   "metadata": {},
   "outputs": [
    {
     "data": {
      "text/plain": [
       "-0.1607142857142856"
      ]
     },
     "execution_count": 3,
     "metadata": {},
     "output_type": "execute_result"
    }
   ],
   "source": [
    "# krippendorffライブラリでは，ワーカが回答しない場合はnp.nanとする\n",
    "worker_A = (\"イカ\",\"クラゲ\",\"イカ\",\"タコ\",\"イカ\",\"タコ\",np.nan)\n",
    "worker_B = (\"クラゲ\",np.nan,\"タコ\",\"イカ\",\"タコ\",\"イカ\",\"クラゲ\")\n",
    "worker_C = (\"クラゲ\",\"イカ\",np.nan,\"クラゲ\",np.nan,np.nan,\"クラゲ\")\n",
    "\n",
    "# 回答をまとめる\n",
    "responses = (worker_A, worker_B, worker_C)\n",
    "\n",
    "# 計算する\n",
    "krippendorff.alpha(reliability_data=responses, level_of_measurement=\"nominal\")"
   ]
  },
  {
   "cell_type": "markdown",
   "id": "20602a6a-05a8-46c7-8e8d-0d6941f89afd",
   "metadata": {},
   "source": [
    "## 公開データセットのクリッペンドルフのαを計算してみる\n",
    "クラウドソーシング企業Toloka社が公開しているデータセット`relevance-2`を用いて，実際のアノテーション結果を対象に実験してみましょう．"
   ]
  },
  {
   "cell_type": "code",
   "execution_count": 4,
   "id": "d2bb229d-dc78-40ea-92c8-aff2b6bc4604",
   "metadata": {},
   "outputs": [],
   "source": [
    "from crowdkit.datasets.load_dataset import load_dataset"
   ]
  },
  {
   "cell_type": "code",
   "execution_count": 5,
   "id": "06595bdc-539b-4d5d-ab62-8ee19ed67a1c",
   "metadata": {},
   "outputs": [],
   "source": [
    "df, gt = load_dataset('relevance-2')\n",
    "\n",
    "# 正解データがついているタスクのみを抽出する\n",
    "## relevance-2には正解データがあるタスクとないタスクの双方が含まれています\n",
    "## クリッペンドルフのαは正解データのないタスクでも計算できますが，\n",
    "## メモリ使用量が多いとcolabがクラッシュしてしまうこともあり，正解データのあるデータのみを用います\n",
    "## 自分のPCでノートブックを動かせる人は，以下の2行をコメントアウトして，データ全体で計算してみてください\n",
    "df = df.merge(gt, on=\"task\", how=\"left\", validate=\"m:1\")\n",
    "df = df[df[\"true_label\"].notnull()]"
   ]
  },
  {
   "cell_type": "markdown",
   "id": "5852cce1-5f61-4e67-94f8-321a839d1fec",
   "metadata": {},
   "source": [
    "データセットの中身を見てみましょう．\n",
    "（`true_label`は正解データで，今回は使いません）"
   ]
  },
  {
   "cell_type": "code",
   "execution_count": 6,
   "id": "696bba88-35b6-48b4-b38f-95166dac3b72",
   "metadata": {},
   "outputs": [
    {
     "data": {
      "text/html": [
       "<div>\n",
       "<style scoped>\n",
       "    .dataframe tbody tr th:only-of-type {\n",
       "        vertical-align: middle;\n",
       "    }\n",
       "\n",
       "    .dataframe tbody tr th {\n",
       "        vertical-align: top;\n",
       "    }\n",
       "\n",
       "    .dataframe thead th {\n",
       "        text-align: right;\n",
       "    }\n",
       "</style>\n",
       "<table border=\"1\" class=\"dataframe\">\n",
       "  <thead>\n",
       "    <tr style=\"text-align: right;\">\n",
       "      <th></th>\n",
       "      <th>worker</th>\n",
       "      <th>task</th>\n",
       "      <th>label</th>\n",
       "      <th>true_label</th>\n",
       "    </tr>\n",
       "  </thead>\n",
       "  <tbody>\n",
       "    <tr>\n",
       "      <th>0</th>\n",
       "      <td>w851</td>\n",
       "      <td>t30685</td>\n",
       "      <td>1</td>\n",
       "      <td>1.0</td>\n",
       "    </tr>\n",
       "    <tr>\n",
       "      <th>8</th>\n",
       "      <td>w5879</td>\n",
       "      <td>t7116</td>\n",
       "      <td>1</td>\n",
       "      <td>1.0</td>\n",
       "    </tr>\n",
       "    <tr>\n",
       "      <th>14</th>\n",
       "      <td>w3048</td>\n",
       "      <td>t95532</td>\n",
       "      <td>0</td>\n",
       "      <td>1.0</td>\n",
       "    </tr>\n",
       "    <tr>\n",
       "      <th>25</th>\n",
       "      <td>w3716</td>\n",
       "      <td>t12806</td>\n",
       "      <td>1</td>\n",
       "      <td>1.0</td>\n",
       "    </tr>\n",
       "    <tr>\n",
       "      <th>45</th>\n",
       "      <td>w5843</td>\n",
       "      <td>t90925</td>\n",
       "      <td>0</td>\n",
       "      <td>1.0</td>\n",
       "    </tr>\n",
       "  </tbody>\n",
       "</table>\n",
       "</div>"
      ],
      "text/plain": [
       "   worker    task  label  true_label\n",
       "0    w851  t30685      1         1.0\n",
       "8   w5879   t7116      1         1.0\n",
       "14  w3048  t95532      0         1.0\n",
       "25  w3716  t12806      1         1.0\n",
       "45  w5843  t90925      0         1.0"
      ]
     },
     "execution_count": 6,
     "metadata": {},
     "output_type": "execute_result"
    }
   ],
   "source": [
    "df.head()"
   ]
  },
  {
   "cell_type": "markdown",
   "id": "1d43fd75-3efb-4abf-b5b6-f184c0854a98",
   "metadata": {},
   "source": [
    "データセットは`(ワーカID, タスクID, 回答)`のタプルのリストになっています．\n",
    "\n",
    "与えられた二つのテキストが，関連している内容`1`かそうでない`0`かを問うタスクです．"
   ]
  },
  {
   "cell_type": "code",
   "execution_count": 7,
   "id": "dce33099-0234-43db-b6c5-9d4d2f25ef4e",
   "metadata": {},
   "outputs": [
    {
     "data": {
      "text/plain": [
       "worker        48268\n",
       "task          48268\n",
       "label         48268\n",
       "true_label    48268\n",
       "dtype: int64"
      ]
     },
     "execution_count": 7,
     "metadata": {},
     "output_type": "execute_result"
    }
   ],
   "source": [
    "df.count()"
   ]
  },
  {
   "cell_type": "markdown",
   "id": "3b93d8dd-f51f-4815-9b2a-def245ee48cd",
   "metadata": {},
   "source": [
    "4万件以上もの回答が含まれている巨大なデータセットです（`gt`がないタスクを含めると，40万件以上あります）．\n",
    "\n",
    "このデータをkrippendorffライブラリで扱えるように変形します．"
   ]
  },
  {
   "cell_type": "code",
   "execution_count": 9,
   "id": "e0ab0ed6-e399-4eac-b265-21e8c34dc953",
   "metadata": {},
   "outputs": [],
   "source": [
    "responses =  df.pivot_table(index='worker', columns='task', values='label', fill_value=np.nan)\n",
    "\n",
    "## `df.pivot_table`による変換にはいくつかの制約がある\n",
    "## 1. 同じワーカが同じタスクに回答していないこと\n",
    "### `df[df[[\"worker\",\"task\"]].duplicated()].count()` で確認できる\n",
    "### 同じワーカが同じタスクに複数回回答する場合はクリッペンドルフのαがそもそも計算できない\n",
    "## 2. ラベルが数値で表現されていること\n",
    "### `aggfunc`引数を指定し，自分で`df.pivot_table`をカスタムすることで数値以外でも使用できる\n",
    "## また，`df.pivot_table`はメモリの使用効率が大変に悪い機能なので注意"
   ]
  },
  {
   "cell_type": "code",
   "execution_count": 10,
   "id": "ce42e0b7-2cef-4812-a3ce-143b61994fde",
   "metadata": {},
   "outputs": [
    {
     "data": {
      "text/plain": [
       "(7054, 10079)"
      ]
     },
     "execution_count": 10,
     "metadata": {},
     "output_type": "execute_result"
    }
   ],
   "source": [
    "responses.shape"
   ]
  },
  {
   "cell_type": "markdown",
   "id": "5a937187-a5b8-4d4c-83c9-3799f4a0ba38",
   "metadata": {},
   "source": [
    "(ワーカ数,タスク数）の行列に変換されています\n",
    "\n",
    "計算してみましょう"
   ]
  },
  {
   "cell_type": "code",
   "execution_count": 11,
   "id": "5e0dfcf4-d6f5-4df8-a91e-5bd6c3fd2174",
   "metadata": {},
   "outputs": [
    {
     "data": {
      "text/plain": [
       "0.2931638815975395"
      ]
     },
     "execution_count": 11,
     "metadata": {},
     "output_type": "execute_result"
    }
   ],
   "source": [
    "krippendorff.alpha(reliability_data=responses, level_of_measurement=\"nominal\")"
   ]
  },
  {
   "cell_type": "markdown",
   "id": "43ec310d-578e-4a50-801b-a00dcbda065b",
   "metadata": {},
   "source": [
    "意外に低い値になっています"
   ]
  },
  {
   "cell_type": "markdown",
   "id": "bb292664-ffe7-4cc9-908e-63f98d8a5ea1",
   "metadata": {},
   "source": [
    "## データセットにスパムワーカを追加する\n",
    "このデータセットに悪いふるまいをするワーカを追加してみましょう．\n",
    "\n",
    "悪いふるまいをするワーカはすべてのタスクにランダムに回答します\n",
    "\n",
    "このスパムワーカを20人追加します"
   ]
  },
  {
   "cell_type": "code",
   "execution_count": 12,
   "id": "97c6df61-5379-4925-9dec-17d809bf1f3c",
   "metadata": {},
   "outputs": [],
   "source": [
    "num_tasks = responses.shape[1] # 総タスク数\n",
    "num_spam_workers = 20 # スパムワーカ数"
   ]
  },
  {
   "cell_type": "code",
   "execution_count": 13,
   "id": "c771a5b1-a62b-4730-b487-21c34ec49ffd",
   "metadata": {},
   "outputs": [],
   "source": [
    "spam_workers = np.array([np.random.randint(low=0,high=1+1,size=num_tasks) for _ in range(num_spam_workers)])"
   ]
  },
  {
   "cell_type": "code",
   "execution_count": 14,
   "id": "ed1b9659-798b-47e1-8684-b8aa8950a899",
   "metadata": {},
   "outputs": [
    {
     "data": {
      "text/plain": [
       "(array([[0, 0, 0, ..., 1, 1, 0],\n",
       "        [1, 0, 0, ..., 1, 1, 1],\n",
       "        [0, 1, 0, ..., 0, 0, 1],\n",
       "        ...,\n",
       "        [0, 1, 1, ..., 0, 1, 0],\n",
       "        [1, 0, 1, ..., 1, 1, 0],\n",
       "        [0, 0, 0, ..., 0, 0, 1]]),\n",
       " (20, 10079))"
      ]
     },
     "execution_count": 14,
     "metadata": {},
     "output_type": "execute_result"
    }
   ],
   "source": [
    "spam_workers, spam_workers.shape"
   ]
  },
  {
   "cell_type": "code",
   "execution_count": 15,
   "id": "669b013a-4ab9-4410-b5fd-c3cd665de21f",
   "metadata": {},
   "outputs": [],
   "source": [
    "responses_with_spam = np.concatenate([responses, spam_workers]) # データセットとスパムワーカ結果を結合"
   ]
  },
  {
   "cell_type": "code",
   "execution_count": 16,
   "id": "6502a072-b1be-4f2c-bd7e-27ea4a51e8a9",
   "metadata": {},
   "outputs": [
    {
     "data": {
      "text/plain": [
       "0.007930105458503034"
      ]
     },
     "execution_count": 16,
     "metadata": {},
     "output_type": "execute_result"
    }
   ],
   "source": [
    "krippendorff.alpha(reliability_data=responses_with_spam, level_of_measurement=\"nominal\")"
   ]
  },
  {
   "cell_type": "markdown",
   "id": "91c84d39-a6ef-4e2c-a7e0-000869f1713c",
   "metadata": {},
   "source": [
    "ランダムなふるまいをするスパムワーカの影響で，クリッペンドルフのαが0に近づいたことがわかります．"
   ]
  },
  {
   "cell_type": "markdown",
   "id": "1c6288b8-1dca-4c10-a761-5bd5c26e40ba",
   "metadata": {},
   "source": [
    "## 余裕があればやってみよう\n",
    " - スパムワーカの数を増減して，クリッペンドルフのαがどう変化するか観察してみましょう\n",
    " - `relevance-5`は同じくテキストの関連度を答えるタスクですが，５段階の順序付き回帰問題になっています．`krippendorff.alpha`を`level_of_measurement=\"ordinal\"`として実行し，クリッペンドルフのαを計算してみましょう（`load_dataset('relevance-5')`でダウンロードできます）\n",
    " - 自分でクラス分類に対するクリッペンドルフのαを計算する関数を書いてみましょう\n",
    " - クラス分類ではない場合のクリッペンドルフのαがどう計算されるのか，調べてみましょう"
   ]
  }
 ],
 "metadata": {
  "kernelspec": {
   "display_name": "Python 3 (ipykernel)",
   "language": "python",
   "name": "python3"
  },
  "language_info": {
   "codemirror_mode": {
    "name": "ipython",
    "version": 3
   },
   "file_extension": ".py",
   "mimetype": "text/x-python",
   "name": "python",
   "nbconvert_exporter": "python",
   "pygments_lexer": "ipython3",
   "version": "3.11.3"
  }
 },
 "nbformat": 4,
 "nbformat_minor": 5
}
